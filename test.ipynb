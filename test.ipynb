{
 "cells": [
  {
   "cell_type": "code",
   "execution_count": 63,
   "id": "83d8e3f6",
   "metadata": {},
   "outputs": [],
   "source": [
    "import requests as req\n",
    "from bs4 import BeautifulSoup\n",
    "import time\n",
    "import json\n",
    "import re"
   ]
  },
  {
   "cell_type": "code",
   "execution_count": null,
   "id": "8c244a64",
   "metadata": {},
   "outputs": [],
   "source": []
  },
  {
   "cell_type": "code",
   "execution_count": null,
   "id": "52043dc9",
   "metadata": {},
   "outputs": [],
   "source": []
  },
  {
   "cell_type": "code",
   "execution_count": 41,
   "id": "6a20c3cc",
   "metadata": {},
   "outputs": [
    {
     "name": "stdout",
     "output_type": "stream",
     "text": [
      "標題: 巴基斯坦暴風雨、沙塵暴夾擊至少釀20死　南部熱浪...\n",
      "時間: 2025.05.26 16:32\n",
      "連結: https://news.ttv.com.tw/news/11405260024000N\n",
      "標題: 台海局勢升溫 關島總督訪台會晤賴清德\n",
      "時間: 2025.05.26 16:18\n",
      "連結: https://news.ttv.com.tw/news/11405260001900W\n",
      "標題: 刷新世界紀錄！　古巴前水球國手水中頂球31分鐘\n",
      "時間: 2025.05.26 14:27\n",
      "連結: https://news.ttv.com.tw/news/11405260012000I\n",
      "標題: 日本擬規定嚴格檢討外國駕照更換制度　觀光自駕將不...\n",
      "時間: 2025.05.26 13:04\n",
      "連結: https://news.ttv.com.tw/news/11405260001400W\n",
      "標題: 女中彩券頭獎24億！ 才要領錢被取消氣炸提告\n",
      "時間: 2025.05.26 11:53\n",
      "連結: https://news.ttv.com.tw/news/11405260000900W\n",
      "標題: 川普轟普亭「瘋了」 點名澤倫斯基與拜登同樣有責\n",
      "時間: 2025.05.26 10:55\n",
      "連結: https://news.ttv.com.tw/news/11405260000400W\n",
      "標題: 拜登自曝四期攝護腺癌 各界多所質疑\n",
      "時間: 2025.05.26 10:48\n",
      "連結: https://news.ttv.com.tw/news/11405260000800W\n",
      "標題: 大阪飯店房費高漲 業者力拚世博商機\n",
      "時間: 2025.05.26 10:35\n",
      "連結: https://news.ttv.com.tw/news/11405260000700W\n",
      "標題: 美中關稅戰經濟恐蕭條 廠商訂單爆滿\n",
      "時間: 2025.05.26 10:21\n",
      "連結: https://news.ttv.com.tw/news/11405260000600W\n",
      "標題: 川普與普亭再通話 極力推進烏俄停火\n",
      "時間: 2025.05.26 10:06\n",
      "連結: https://news.ttv.com.tw/news/11405260000500W\n",
      "標題: 俄對烏最大規模空襲！澤倫斯基籲美表態　川普回應了\n",
      "時間: 2025.05.26 09:39\n",
      "連結: https://news.ttv.com.tw/news/11405260000300W\n",
      "標題: 歐盟來電請求 川普同意「延後50％關稅」至7/9\n",
      "時間: 2025.05.26 09:27\n",
      "連結: https://news.ttv.com.tw/news/11405260000200W\n",
      "標題: 川普：美國需要軍工和晶片等高階製造業\n",
      "時間: 2025.05.26 08:42\n",
      "連結: https://news.ttv.com.tw/news/11405260007000N\n",
      "標題: 貨輪印度洋翻覆！ 軍艦出動救援24人獲救\n",
      "時間: 2025.05.26 08:07\n",
      "連結: https://news.ttv.com.tw/news/114052600051001\n",
      "標題: 排除梵蒂岡作談判場地 俄羅斯擬提「和平協議草案」\n",
      "時間: 2025.05.25 12:44\n",
      "連結: https://news.ttv.com.tw/news/11405250000700W\n",
      "標題: 坎城影展／華語片等了10年 舒淇主演《狂野時代》...\n",
      "時間: 2025.05.25 11:17\n",
      "連結: https://news.ttv.com.tw/news/11405250008500N\n",
      "標題: 加薩女醫忙救空襲傷患 家遭炮擊7子成焦屍\n",
      "時間: 2025.05.25 10:15\n",
      "連結: https://news.ttv.com.tw/news/11405250000600W\n",
      "標題: 德國車站驚傳持刀攻擊！ 至少刺傷18人\n",
      "時間: 2025.05.25 09:13\n",
      "連結: https://news.ttv.com.tw/news/11405240003000N\n",
      "標題: iPhone售價破10萬？川普逼要「美國製造」否...\n",
      "時間: 2025.05.25 09:07\n",
      "連結: https://news.ttv.com.tw/news/11405250000500W\n",
      "標題: 法國發電站疑遭縱火「16萬戶停電一片黑」 坎城影...\n",
      "時間: 2025.05.25 08:57\n",
      "連結: https://news.ttv.com.tw/news/11405250000400W\n",
      "第1頁結束\n"
     ]
    }
   ],
   "source": [
    "# 取新聞清單\n",
    "my_headers = {\n",
    "    'user-agent': 'Mozilla/5.0 (Windows NT 10.0; Win64; x64) AppleWebKit/537.36 (KHTML, like Gecko) Chrome/99.0.4844.82 Safari/537.36'\n",
    "}\n",
    "\n",
    "for i in range(1, 2):\n",
    "    # 政治\n",
    "    res = req.get(f'https://news.ttv.com.tw/category/國際/{i}', headers=my_headers)\n",
    "    soup = BeautifulSoup(res.text, 'lxml')\n",
    "    news_list = soup.select('article.container a')\n",
    "    for news in news_list:\n",
    "        news_title = news.select('div.title')[0].text.strip()\n",
    "        news_time = news.select('div.time')[0].text.strip()\n",
    "        link = news['href']\n",
    "        print(f'標題: {news_title}')\n",
    "        print(f'時間: {news_time}')\n",
    "        print(f'連結: {link}')\n",
    "        req.post('http://127.0.0.1:5000/news', json={'news_time': news_time, 'news_title': news_title, 'news_url': link, 'source_website': '台視'})\n",
    "    print(f'第{i}頁結束')\n",
    "    time.sleep(1)\n"
   ]
  },
  {
   "cell_type": "code",
   "execution_count": null,
   "id": "3df6ef03",
   "metadata": {},
   "outputs": [],
   "source": []
  },
  {
   "cell_type": "code",
   "execution_count": 59,
   "id": "b7b7d85e",
   "metadata": {},
   "outputs": [],
   "source": [
    "# 取得待爬清單\n",
    "res = req.post('http://127.0.0.1:5000/get_wait_query_list', json={'source_website': '台視', 'count': 1})\n",
    "query_list = json.loads(res.text)"
   ]
  },
  {
   "cell_type": "code",
   "execution_count": null,
   "id": "d92381fd",
   "metadata": {},
   "outputs": [],
   "source": [
    "# 取新聞內容\n",
    "my_headers = {\n",
    "    'user-agent': 'Mozilla/5.0 (Windows NT 10.0; Win64; x64) AppleWebKit/537.36 (KHTML, like Gecko) Chrome/99.0.4844.82 Safari/537.36'\n",
    "}\n",
    "\n",
    "for query_data in query_list:\n",
    "    res = req.get(query_data['news_url'], headers=my_headers)\n",
    "    soup = BeautifulSoup(res.text, 'lxml')\n",
    "    div = soup.select(\"div#newscontent\")\n",
    "    p = div[0].select(\"p\")\n",
    "\n",
    "    # 標題\n",
    "    title = soup.select(\"h1.mb-ht-hf\")[0].text.strip()\n",
    "    title = re.sub(r'\\u3000', ' ', title)\n",
    "\n",
    "    # 抓取圖片\n",
    "    soup.select(\"div#newscontent img\")[0]\n",
    "\n",
    "    # 內文\n",
    "    content = ''\n",
    "    for x in p:\n",
    "        content += x.text\n",
    "\n",
    "    # 抓取編輯\n",
    "    a = re.search(r'責任編輯／([\\u4e00-\\u9fff]+)', content)[1]\n"
   ]
  },
  {
   "cell_type": "code",
   "execution_count": null,
   "id": "f0394401",
   "metadata": {},
   "outputs": [
    {
     "data": {
      "text/plain": [
       "'巴基斯坦暴風雨、沙塵暴夾擊至少釀20死\\u3000南部熱浪來襲飆48度高溫'"
      ]
     },
     "execution_count": 82,
     "metadata": {},
     "output_type": "execute_result"
    }
   ],
   "source": []
  },
  {
   "cell_type": "code",
   "execution_count": 86,
   "id": "83f1287d",
   "metadata": {},
   "outputs": [],
   "source": [
    "\n",
    "\n",
    "ul = soup.select(\"ul.tag > li a\")"
   ]
  },
  {
   "cell_type": "code",
   "execution_count": null,
   "id": "25917320",
   "metadata": {},
   "outputs": [
    {
     "name": "stdout",
     "output_type": "stream",
     "text": [
      "巴基斯坦\n",
      "暴風雨\n",
      "沙塵暴\n",
      "巴基斯坦\n",
      "暴風雨\n",
      "沙塵暴\n",
      "死亡\n",
      "災害\n",
      "天災\n",
      "48度\n",
      "高溫\n",
      "極端天氣\n",
      "電力過載\n",
      "斷電\n",
      "國際\n"
     ]
    }
   ],
   "source": [
    "#TODO  抓tag\n",
    "for x in ul:\n",
    "    print(x.text)"
   ]
  },
  {
   "cell_type": "code",
   "execution_count": null,
   "id": "105166c4",
   "metadata": {},
   "outputs": [],
   "source": []
  },
  {
   "cell_type": "code",
   "execution_count": null,
   "id": "42a69f86",
   "metadata": {},
   "outputs": [],
   "source": []
  }
 ],
 "metadata": {
  "kernelspec": {
   "display_name": ".venv",
   "language": "python",
   "name": "python3"
  },
  "language_info": {
   "codemirror_mode": {
    "name": "ipython",
    "version": 3
   },
   "file_extension": ".py",
   "mimetype": "text/x-python",
   "name": "python",
   "nbconvert_exporter": "python",
   "pygments_lexer": "ipython3",
   "version": "3.13.3"
  }
 },
 "nbformat": 4,
 "nbformat_minor": 5
}
