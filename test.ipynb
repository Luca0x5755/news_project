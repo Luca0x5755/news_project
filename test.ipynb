{
 "cells": [
  {
   "cell_type": "code",
   "execution_count": 1,
   "id": "42a69f86",
   "metadata": {},
   "outputs": [],
   "source": [
    "import requests\n",
    "import json\n",
    "import re"
   ]
  },
  {
   "cell_type": "code",
   "execution_count": null,
   "id": "b1124867",
   "metadata": {},
   "outputs": [],
   "source": [
    "token = ''\n",
    "headers = {\n",
    "    \"Authorization\": f\"Bearer {token}\"\n",
    "}\n",
    "\n",
    "\n",
    "# API URL\n",
    "url = \"http://localhost:3000/api/models\"\n",
    "\n",
    "try:\n",
    "    response = requests.get(url, headers=headers)\n",
    "    response.raise_for_status()  # 檢查是否有錯誤\n",
    "\n",
    "    # 解析 JSON 資料\n",
    "    data = response.json()\n",
    "    print(\"取得的資料：\", data)\n",
    "\n",
    "except requests.exceptions.RequestException as e:\n",
    "    print(\"請求失敗：\", e)\n",
    "\n",
    "res = requests.post('http://127.0.0.1:5000/wait_ai_handle_list', json={'count': 10})\n",
    "res_objs = json.loads(res.text)\n",
    "\n",
    "def chat_with_model(token, content):\n",
    "    url = 'http://localhost:3000/api/chat/completions'\n",
    "    headers = {\n",
    "        'Authorization': f'Bearer {token}',\n",
    "        'Content-Type': 'application/json'\n",
    "    }\n",
    "    data = {\n",
    "        \"model\": \"gemma3:12b-it-qat\",\n",
    "        \"messages\": [\n",
    "            {\n",
    "                \"role\": \"system\",\n",
    "                \"content\": \"\"\"\n",
    "                    你是一位專業的新聞分析師，擅長從新聞提取關鍵資訊。\n",
    "                    1. 標題：\n",
    "                    - 整理出一個可以貫穿整個文章的標題，使用肯定句，最多35個文字。\n",
    "\n",
    "                    2. 分類\n",
    "                    - 將內容分類，並回答是屬於哪一項，政治、國際、地方、社會、娛樂、生活、氣象、健康、體育、財經、旅遊、科技。\n",
    "\n",
    "                    3. 關鍵字：\n",
    "                    - 提取最多5個核心的名詞，包含團體、政黨、名人、技術。\n",
    "                    - 名人需判斷是否為政治人物，是政治人物需加上政黨名稱。\n",
    "                    - 使用\", \"作為關鍵字的間格符號。\n",
    "                    4. 語意分析：\n",
    "                    - 分析內容的情感類別，並回答是正面、負面還是中立。\n",
    "                    5. 將以上結果轉換成json格式\n",
    "                    - {\"title\": \"標題結果\", \"category\": [\"分類結果1\", \"分類結果2\"], \"keyword\": [\"關鍵字結果1\", \"關鍵字結果2\"], \"sentiment_analysis\": \"語意分析結果\"}\n",
    "                    \"\"\"\n",
    "            },\n",
    "            {\n",
    "                \"role\": \"user\",\n",
    "                \"content\": content\n",
    "            }\n",
    "        ]\n",
    "    }\n",
    "    response = requests.post(url, headers=headers, json=data)\n",
    "    return response.json()\n",
    "\n",
    "\n",
    "url = \"http://127.0.0.1:5000/add_ai_news\"  # 替換為實際的 API URL\n",
    "\n",
    "for obj in res_objs[1:]:\n",
    "    jsondata = chat_with_model(token, obj['news_content'])\n",
    "    content1 = jsondata['choices'][0]['message']['content']\n",
    "    re_obj = re.search(r'```json(.*?)```', content1, re.DOTALL)\n",
    "    result_json = json.loads(re_obj[1])\n",
    "\n",
    "    data = {\n",
    "        \"news_id\": obj['id'],\n",
    "        **result_json\n",
    "    }\n",
    "\n",
    "    response = requests.post(url, json=data)\n",
    "\n",
    "    if response.status_code == 201:\n",
    "        print(\"新增成功:\", obj['id'], response.json())\n",
    "    else:\n",
    "        print(\"新增失敗:\", response.status_code, response.json())\n"
   ]
  },
  {
   "cell_type": "code",
   "execution_count": null,
   "id": "1a31a33b",
   "metadata": {},
   "outputs": [],
   "source": []
  },
  {
   "cell_type": "code",
   "execution_count": null,
   "id": "8f3392fe",
   "metadata": {},
   "outputs": [],
   "source": []
  },
  {
   "cell_type": "code",
   "execution_count": null,
   "id": "55ad9e2f",
   "metadata": {},
   "outputs": [],
   "source": []
  },
  {
   "cell_type": "code",
   "execution_count": null,
   "id": "421468a7",
   "metadata": {},
   "outputs": [],
   "source": []
  },
  {
   "cell_type": "code",
   "execution_count": null,
   "id": "47512c39",
   "metadata": {},
   "outputs": [],
   "source": []
  },
  {
   "cell_type": "code",
   "execution_count": null,
   "id": "3349efa4",
   "metadata": {},
   "outputs": [],
   "source": []
  },
  {
   "cell_type": "code",
   "execution_count": null,
   "id": "7f414883",
   "metadata": {},
   "outputs": [],
   "source": []
  },
  {
   "cell_type": "code",
   "execution_count": null,
   "id": "e0247ffb",
   "metadata": {},
   "outputs": [],
   "source": []
  },
  {
   "cell_type": "code",
   "execution_count": null,
   "id": "1aca6e5b",
   "metadata": {},
   "outputs": [],
   "source": []
  },
  {
   "cell_type": "code",
   "execution_count": null,
   "id": "f34907ff",
   "metadata": {},
   "outputs": [],
   "source": []
  },
  {
   "cell_type": "code",
   "execution_count": null,
   "id": "1347ca9c",
   "metadata": {},
   "outputs": [],
   "source": []
  }
 ],
 "metadata": {
  "kernelspec": {
   "display_name": ".venv",
   "language": "python",
   "name": "python3"
  },
  "language_info": {
   "codemirror_mode": {
    "name": "ipython",
    "version": 3
   },
   "file_extension": ".py",
   "mimetype": "text/x-python",
   "name": "python",
   "nbconvert_exporter": "python",
   "pygments_lexer": "ipython3",
   "version": "3.13.3"
  }
 },
 "nbformat": 4,
 "nbformat_minor": 5
}
