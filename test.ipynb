{
 "cells": [
  {
   "cell_type": "code",
   "execution_count": 2,
   "id": "42a69f86",
   "metadata": {},
   "outputs": [],
   "source": [
    "import requests\n",
    "import json\n",
    "import re"
   ]
  },
  {
   "cell_type": "code",
   "execution_count": null,
   "id": "b1124867",
   "metadata": {},
   "outputs": [],
   "source": []
  },
  {
   "cell_type": "code",
   "execution_count": 42,
   "id": "1a31a33b",
   "metadata": {},
   "outputs": [],
   "source": [
    "data = {'ai_model': 1, 'source_website': 1, 'offset': 100}\n",
    "res = requests.post('http://127.0.0.1:7000/api/ai_news', json=data)"
   ]
  },
  {
   "cell_type": "code",
   "execution_count": 43,
   "id": "8f3392fe",
   "metadata": {},
   "outputs": [
    {
     "data": {
      "text/plain": [
       "'[\\n  {\\n    \"ai_title\": \"\\\\u5168\\\\u7f8e\\\\u97f3\\\\u6a02\\\\u734e\\\\u843d\\\\u5e55\\\\uff01Billie Eilish \\\\u6a6b\\\\u63837\\\\u734e\\\\uff0c\\\\u6210\\\\u6700\\\\u5927\\\\u8d0f\\\\u5bb6\",\\n    \"image_url\": \"https://cdn.ttv.com.tw/manasystem/FileData/News/6e4661d3-3573-4c96-acd8-6220a3c64479.jpg\",\\n    \"news_id\": 233,\\n    \"news_url\": \"https://news.ttv.com.tw/news/11405270001300W\",\\n    \"source_website\": \"\\\\u53f0\\\\u8996\",\\n    \"time\": \"2025-05-27\"\\n  },\\n  {\\n    \"ai_title\": \"\\\\u9ec3\\\\u725b\\\\u7968\\\\u7316\\\\u7357\\\\u4e0d\\\\u518d\\\\uff01\\\\u300a\\\\u793e\\\\u6703\\\\u79e9\\\\u5e8f\\\\u7dad\\\\u8b77\\\\u6cd5\\\\u300b\\\\u4fee\\\\u6cd5\\\\uff0c\\\\u9ec3\\\\u725b\\\\u6050\\\\u906d\\\\u62d8\\\\u7559\\\\u6216\\\\u7f70\\\\u9370\",\\n    \"image_url\": \"https://cdn.ttv.com.tw/summernotefiles/News/3c4ca4e1-e892-49c0-8da8-b497a77669e7.jpg\",\\n    \"news_id\": 60,\\n    \"news_url\": \"https://news.ttv.com.tw/news/11405270001200W\",\\n    \"source_website\": \"\\\\u53f0\\\\u8996\",\\n    \"time\": \"2025-05-27\"\\n  },\\n  {\\n    \"ai_title\": \"BLACKPINK\\\\u9ad8\\\\u96c4\\\\u6f14\\\\u5531\\\\u6703\\\\u552e\\\\u7968\\\\u8cc7\\\\u8a0a\\\\u6b63\\\\u5f0f\\\\u516c\\\\u5e03\\\\uff016/12\\\\u5168\\\\u9762\\\\u958b\\\\u8ce3\",\\n    \"image_url\": \"https://cdn.ttv.com.tw/manasystem/FileData/News/b3ced1ad-b7af-4e13-a37e-8837dd86d56a.jpg\",\\n    \"news_id\": 234,\\n    \"news_url\": \"https://news.ttv.com.tw/news/11405270001000W\",\\n    \"source_website\": \"\\\\u53f0\\\\u8996\",\\n    \"time\": \"2025-05-27\"\\n  },\\n  {\\n    \"ai_title\": \"\\\\u53f0\\\\u4e2d\\\\u5e02\\\\u8207\\\\u9ad8\\\\u96c4\\\\u5e02\\\\u4ea4\\\\u6d41\\\\u667a\\\\u6167\\\\u57ce\\\\u5e02\\\\u7d93\\\\u9a57\\\\uff0c\\\\u6df1\\\\u5316\\\\u6578\\\\u4f4d\\\\u8f49\\\\u578b\\\\u5408\\\\u4f5c\\\\u3002\",\\n    \"image_url\": \"https://cdn.ttv.com.tw/summernotefiles/News/3c2d208f-1d98-4f39-8f62-72da953e6757.jpg\",\\n    \"news_id\": 262,\\n    \"news_url\": \"https://news.ttv.com.tw/news/11405270001100W\",\\n    \"source_website\": \"\\\\u53f0\\\\u8996\",\\n    \"time\": \"2025-05-27\"\\n  },\\n  {\\n    \"ai_title\": \"\\\\u8449\\\\u4e19\\\\u6210\\\\u500b\\\\u8cc7\\\\u5916\\\\u6d29\\\\u5f15\\\\u722d\\\\u8b70\\\\uff0c\\\\u6559\\\\u80b2\\\\u90e8\\\\u555f\\\\u52d5\\\\u8abf\\\\u67e5\\\\u4e26\\\\u8acb\\\\u5047\\\\u63a5\\\\u53d7\\\\u8abf\\\\u67e5\\\\u3002\",\\n    \"image_url\": \"https://cdn.ttv.com.tw/manasystem/FileData/News/dd9be189-4751-4812-90a4-1f0c09f96be5.jpg\",\\n    \"news_id\": 61,\\n    \"news_url\": \"https://news.ttv.com.tw/news/114052700101005\",\\n    \"source_website\": \"\\\\u53f0\\\\u8996\",\\n    \"time\": \"2025-05-27\"\\n  },\\n  {\\n    \"ai_title\": \"\\\\u4e2d\\\\u5171\\\\u7db2\\\\u8ecd\\\\u5c0f\\\\u7d05\\\\u66f8\\\\u52a9\\\\u653b\\\\uff0c\\\\u8a8d\\\\u77e5\\\\u6230\\\\u3001\\\\u5fc3\\\\u7406\\\\u6230\\\\u9f4a\\\\u51fa\\\\uff0c\\\\u6050\\\\u8d81\\\\u98b1\\\\u98a8\\\\u8972\\\\u53f0\\\\u6b66\\\\u529b\\\\u72af\\\\u53f0\",\\n    \"image_url\": \"https://cdn.ttv.com.tw/summernotefiles/News/83e121b4-451d-4ab0-98b6-6512a1b6ad5c.jpg\",\\n    \"news_id\": 62,\\n    \"news_url\": \"https://news.ttv.com.tw/news/11405260028200N\",\\n    \"source_website\": \"\\\\u53f0\\\\u8996\",\\n    \"time\": \"2025-05-27\"\\n  },\\n  {\\n    \"ai_title\": \"Andy\\\\u3001\\\\u5bb6\\\\u5be7\\\\u96d9\\\\u65b9\\\\u4e92\\\\u63a7\\\\uff01\\\\u5bb6\\\\u5be7\\\\u6307\\\\u63a7Andy\\\\u51fa\\\\u8ecc\\\\uff0c\\\\u7a31\\\\u624b\\\\u63e1\\\\u8b49\\\\u64da\\\\u53cd\\\\u64ca\",\\n    \"image_url\": \"https://cdn.ttv.com.tw/manasystem/FileData/News/d67ea8c3-654f-44f0-bf53-3f5d5dcd33ce.jpg\",\\n    \"news_id\": 235,\\n    \"news_url\": \"https://news.ttv.com.tw/news/11405270000400W\",\\n    \"source_website\": \"\\\\u53f0\\\\u8996\",\\n    \"time\": \"2025-05-27\"\\n  },\\n  {\\n    \"ai_title\": \"\\\\u6771\\\\u5317\\\\u5b63\\\\u98a8\\\\u6e1b\\\\u5f31\\\\uff0c\\\\u9031\\\\u672b\\\\u92d2\\\\u9762\\\\u903c\\\\u8fd1\\\\uff0c\\\\u6d2a\\\\u5b63\\\\u8b19\\\\u63d0\\\\u9192\\\\u6ce8\\\\u610f\\\\u5929\\\\u6c23\\\\u8b8a\\\\u5316\\\\u3002\",\\n    \"image_url\": \"https://cdn.ttv.com.tw/summernotefiles/News/e1f00c7a-7398-4b69-a079-492f511f9a1b.jpg\",\\n    \"news_id\": 266,\\n    \"news_url\": \"https://news.ttv.com.tw/news/11405270000100W\",\\n    \"source_website\": \"\\\\u53f0\\\\u8996\",\\n    \"time\": \"2025-05-27\"\\n  },\\n  {\\n    \"ai_title\": \"\\\\u7530\\\\u99a5\\\\u7504\\\\u300c\\\\u7530\\\\u8abf\\\\u300d\\\\u6f14\\\\u5531\\\\u6703\\\\u5927\\\\u53d7\\\\u597d\\\\u8a55\\\\uff01\\\\u5947\\\\u9047\\\\u7532\\\\u87f2\\\\u6210\\\\u4eae\\\\u9ede\\\\uff0c\\\\u611f\\\\u52d5\\\\u843d\\\\u6dda\\\\u611f\\\\u8b1d\\\\u7c89\\\\u7d72\",\\n    \"image_url\": \"https://cdn.ttv.com.tw/summernotefiles/News/b9267805-d5fe-4200-a585-80107bd66e81.jpg\",\\n    \"news_id\": 236,\\n    \"news_url\": \"https://news.ttv.com.tw/news/11405260001800W\",\\n    \"source_website\": \"\\\\u53f0\\\\u8996\",\\n    \"time\": \"2025-05-26\"\\n  },\\n  {\\n    \"ai_title\": \"\\\\u570b\\\\u6c11\\\\u9ee8\\\\u4e3b\\\\u5e2d\\\\u6539\\\\u9078\\\\u903c\\\\u8fd1\\\\uff0c\\\\u6731\\\\u7acb\\\\u502b\\\\u76fc\\\\u9806\\\\u5229\\\\u4ea4\\\\u68d2\\\\uff0c\\\\u76e7\\\\u79c0\\\\u71d5\\\\u6210\\\\u7126\\\\u9ede\\\\u3002\",\\n    \"image_url\": \"https://cdn.ttv.com.tw/manasystem/FileData/News/a4d3cf9f-f23d-4368-a92e-97b3fff1d829.jpg\",\\n    \"news_id\": 63,\\n    \"news_url\": \"https://news.ttv.com.tw/news/11405260002000W\",\\n    \"source_website\": \"\\\\u53f0\\\\u8996\",\\n    \"time\": \"2025-05-26\"\\n  }\\n]\\n'"
      ]
     },
     "execution_count": 43,
     "metadata": {},
     "output_type": "execute_result"
    }
   ],
   "source": [
    "res.text"
   ]
  },
  {
   "cell_type": "code",
   "execution_count": 44,
   "id": "55ad9e2f",
   "metadata": {},
   "outputs": [
    {
     "data": {
      "text/plain": [
       "[{'ai_title': '全美音樂獎落幕！Billie Eilish 橫掃7獎，成最大贏家',\n",
       "  'image_url': 'https://cdn.ttv.com.tw/manasystem/FileData/News/6e4661d3-3573-4c96-acd8-6220a3c64479.jpg',\n",
       "  'news_id': 233,\n",
       "  'news_url': 'https://news.ttv.com.tw/news/11405270001300W',\n",
       "  'source_website': '台視',\n",
       "  'time': '2025-05-27'},\n",
       " {'ai_title': '黃牛票猖獗不再！《社會秩序維護法》修法，黃牛恐遭拘留或罰鍰',\n",
       "  'image_url': 'https://cdn.ttv.com.tw/summernotefiles/News/3c4ca4e1-e892-49c0-8da8-b497a77669e7.jpg',\n",
       "  'news_id': 60,\n",
       "  'news_url': 'https://news.ttv.com.tw/news/11405270001200W',\n",
       "  'source_website': '台視',\n",
       "  'time': '2025-05-27'},\n",
       " {'ai_title': 'BLACKPINK高雄演唱會售票資訊正式公布！6/12全面開賣',\n",
       "  'image_url': 'https://cdn.ttv.com.tw/manasystem/FileData/News/b3ced1ad-b7af-4e13-a37e-8837dd86d56a.jpg',\n",
       "  'news_id': 234,\n",
       "  'news_url': 'https://news.ttv.com.tw/news/11405270001000W',\n",
       "  'source_website': '台視',\n",
       "  'time': '2025-05-27'},\n",
       " {'ai_title': '台中市與高雄市交流智慧城市經驗，深化數位轉型合作。',\n",
       "  'image_url': 'https://cdn.ttv.com.tw/summernotefiles/News/3c2d208f-1d98-4f39-8f62-72da953e6757.jpg',\n",
       "  'news_id': 262,\n",
       "  'news_url': 'https://news.ttv.com.tw/news/11405270001100W',\n",
       "  'source_website': '台視',\n",
       "  'time': '2025-05-27'},\n",
       " {'ai_title': '葉丙成個資外洩引爭議，教育部啟動調查並請假接受調查。',\n",
       "  'image_url': 'https://cdn.ttv.com.tw/manasystem/FileData/News/dd9be189-4751-4812-90a4-1f0c09f96be5.jpg',\n",
       "  'news_id': 61,\n",
       "  'news_url': 'https://news.ttv.com.tw/news/114052700101005',\n",
       "  'source_website': '台視',\n",
       "  'time': '2025-05-27'},\n",
       " {'ai_title': '中共網軍小紅書助攻，認知戰、心理戰齊出，恐趁颱風襲台武力犯台',\n",
       "  'image_url': 'https://cdn.ttv.com.tw/summernotefiles/News/83e121b4-451d-4ab0-98b6-6512a1b6ad5c.jpg',\n",
       "  'news_id': 62,\n",
       "  'news_url': 'https://news.ttv.com.tw/news/11405260028200N',\n",
       "  'source_website': '台視',\n",
       "  'time': '2025-05-27'},\n",
       " {'ai_title': 'Andy、家寧雙方互控！家寧指控Andy出軌，稱手握證據反擊',\n",
       "  'image_url': 'https://cdn.ttv.com.tw/manasystem/FileData/News/d67ea8c3-654f-44f0-bf53-3f5d5dcd33ce.jpg',\n",
       "  'news_id': 235,\n",
       "  'news_url': 'https://news.ttv.com.tw/news/11405270000400W',\n",
       "  'source_website': '台視',\n",
       "  'time': '2025-05-27'},\n",
       " {'ai_title': '東北季風減弱，週末鋒面逼近，洪季謙提醒注意天氣變化。',\n",
       "  'image_url': 'https://cdn.ttv.com.tw/summernotefiles/News/e1f00c7a-7398-4b69-a079-492f511f9a1b.jpg',\n",
       "  'news_id': 266,\n",
       "  'news_url': 'https://news.ttv.com.tw/news/11405270000100W',\n",
       "  'source_website': '台視',\n",
       "  'time': '2025-05-27'},\n",
       " {'ai_title': '田馥甄「田調」演唱會大受好評！奇遇甲蟲成亮點，感動落淚感謝粉絲',\n",
       "  'image_url': 'https://cdn.ttv.com.tw/summernotefiles/News/b9267805-d5fe-4200-a585-80107bd66e81.jpg',\n",
       "  'news_id': 236,\n",
       "  'news_url': 'https://news.ttv.com.tw/news/11405260001800W',\n",
       "  'source_website': '台視',\n",
       "  'time': '2025-05-26'},\n",
       " {'ai_title': '國民黨主席改選逼近，朱立倫盼順利交棒，盧秀燕成焦點。',\n",
       "  'image_url': 'https://cdn.ttv.com.tw/manasystem/FileData/News/a4d3cf9f-f23d-4368-a92e-97b3fff1d829.jpg',\n",
       "  'news_id': 63,\n",
       "  'news_url': 'https://news.ttv.com.tw/news/11405260002000W',\n",
       "  'source_website': '台視',\n",
       "  'time': '2025-05-26'}]"
      ]
     },
     "execution_count": 44,
     "metadata": {},
     "output_type": "execute_result"
    }
   ],
   "source": [
    "json.loads(res.text)"
   ]
  },
  {
   "cell_type": "code",
   "execution_count": 34,
   "id": "421468a7",
   "metadata": {},
   "outputs": [],
   "source": [
    "res = requests.get('http://127.0.0.1:7000/api/ai_news/32')"
   ]
  },
  {
   "cell_type": "code",
   "execution_count": 35,
   "id": "47512c39",
   "metadata": {},
   "outputs": [
    {
     "data": {
      "text/plain": [
       "{'ai_details': [{'ai_model': 'gemma3:12b-it-qat',\n",
       "   'ai_sentiment_analysis': '負面',\n",
       "   'ai_title': '直播主涉嫌詐騙高齡婦女破5400萬，羅志祥神似外貌曾是幫眾。'},\n",
       "  {'ai_model': 'gemma3:4b-it-qat',\n",
       "   'ai_sentiment_analysis': '負面',\n",
       "   'ai_title': '神似羅志祥的林姓直播主涉詐騙，遭刑事局起訴，財損逾54億。'}],\n",
       " 'image_url': 'https://cdn.ttv.com.tw/summernotefiles/News/937241b5-0808-4de1-96be-0e4a0f2bdddd.jpg',\n",
       " 'news_content': '曾參加過歌唱比賽、長相神似歌手羅志祥的林姓直播主，竟涉及詐騙案，警方查獲他指揮小弟，鎖定曾遭到靈骨塔詐騙的被害人，佯稱有買家高價收購「生基位」等殯葬商品為誘餌進行詐騙，總金額破5400萬，拿去買瑪莎拉蒂跑車，如今被刑事局拘提到案，遭起訴收押。\\n大批刑警衝進大樓住宅時，嫌犯被嚇到來不及反應，他的愛犬也倉皇逃出房間，他是詐騙集團主謀，在搞詐騙前是直播主，還曾參加歌唱比賽，因為長相神似亞洲舞王羅志祥，被網友發掘卻被翻出過去，曾是竹聯幫幫眾，這回竟走歪路轉行做詐騙。\\n警方調查，林姓主嫌指揮在酒店認識的朋友擔任業務，騙取曾受生基塔位詐騙的高齡女性，誆稱有買家願意高價收購「生基塔位」估價金額從3千萬喊到1億，開著百萬休旅車載被害人到台北市區日租辦公室簽約，製造背後真的有公司經營。\\n結果簽約後業務改口帳戶有問題，錢匯不進去必須先拿一筆錢做金流，以你出300萬我出500萬的說法，來說服被害人交付大筆現金，得手後就搞消失，還有人房子遭到抵押被迫搬遷連家都沒了。\\n電信偵查大隊第一隊隊長韋詩亭表示，「總計財損逾新台幣5469萬元，林嫌等人訊問後以加重詐欺罪嫌等，移送台灣台北地方檢察署續辦」。\\n檢警去年至今，在雙北地區逮捕林姓主嫌等15人，大量贓款、瑪莎拉蒂跑車及手機證物全被查扣，詐騙集團用不法獲利，享受榮華富貴如今成為幻影。\\xa0\\n台北／李亭熙、張信智\\u3000責任編輯／蔡尚晉',\n",
       " 'news_time': '2025-05-28 20:53:00',\n",
       " 'news_title': '「小羅志祥」淪詐團主謀 賣假塔位詐逾5400萬',\n",
       " 'news_url': 'https://news.ttv.com.tw/news/11405280031200N',\n",
       " 'source_website': '台視'}"
      ]
     },
     "execution_count": 35,
     "metadata": {},
     "output_type": "execute_result"
    }
   ],
   "source": [
    "json.loads(res.text)"
   ]
  },
  {
   "cell_type": "code",
   "execution_count": null,
   "id": "3349efa4",
   "metadata": {},
   "outputs": [],
   "source": []
  },
  {
   "cell_type": "code",
   "execution_count": null,
   "id": "7f414883",
   "metadata": {},
   "outputs": [],
   "source": []
  },
  {
   "cell_type": "code",
   "execution_count": null,
   "id": "e0247ffb",
   "metadata": {},
   "outputs": [],
   "source": []
  },
  {
   "cell_type": "code",
   "execution_count": null,
   "id": "1aca6e5b",
   "metadata": {},
   "outputs": [],
   "source": []
  },
  {
   "cell_type": "code",
   "execution_count": null,
   "id": "f34907ff",
   "metadata": {},
   "outputs": [],
   "source": []
  },
  {
   "cell_type": "code",
   "execution_count": null,
   "id": "1347ca9c",
   "metadata": {},
   "outputs": [],
   "source": []
  }
 ],
 "metadata": {
  "kernelspec": {
   "display_name": ".venv",
   "language": "python",
   "name": "python3"
  },
  "language_info": {
   "codemirror_mode": {
    "name": "ipython",
    "version": 3
   },
   "file_extension": ".py",
   "mimetype": "text/x-python",
   "name": "python",
   "nbconvert_exporter": "python",
   "pygments_lexer": "ipython3",
   "version": "3.13.3"
  }
 },
 "nbformat": 4,
 "nbformat_minor": 5
}
