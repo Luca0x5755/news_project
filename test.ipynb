{
 "cells": [
  {
   "cell_type": "code",
   "execution_count": 2,
   "id": "42a69f86",
   "metadata": {},
   "outputs": [],
   "source": [
    "import requests\n",
    "import json\n",
    "import re"
   ]
  },
  {
   "cell_type": "code",
   "execution_count": null,
   "id": "b1124867",
   "metadata": {},
   "outputs": [],
   "source": []
  },
  {
   "cell_type": "code",
   "execution_count": 15,
   "id": "1a31a33b",
   "metadata": {},
   "outputs": [],
   "source": [
    "data = {'ai_model': 1, 'source_website': 1}\n",
    "res = requests.post('http://127.0.0.1:7000/api/ai_news', json=data)"
   ]
  },
  {
   "cell_type": "code",
   "execution_count": 16,
   "id": "8f3392fe",
   "metadata": {},
   "outputs": [
    {
     "data": {
      "text/plain": [
       "'[\\n  {\\n    \"ai_title\": \"\\\\u5f35\\\\u65af\\\\u7db1\\\\u6372\\\\u5165\\\\u5e7d\\\\u9748\\\\u9023\\\\u7f72\\\\u6848\\\\u906d\\\\u8a0a\\\\u554f\\\\uff0c\\\\u5f37\\\\u8abf\\\\u5c0a\\\\u91cd\\\\u53f8\\\\u6cd5\\\\u4e26\\\\u914d\\\\u5408\\\\u8abf\\\\u67e5\\\\uff0c\\\\u570b\\\\u6c11\\\\u9ee8\\\\u667a\\\\u5eab\\\\u6279\\\\u53f8\\\\u6cd5\\\\u6feb\\\\u6b0a\",\\n    \"image_url\": \"https://cdn.ttv.com.tw/manasystem/FileData/News/d4f7928e-2a38-4a07-bb05-9a4fa985fda1.jpg\",\\n    \"news_id\": 221,\\n    \"source_website\": \"\\\\u53f0\\\\u8996\",\\n    \"time\": \"2025-05-29\"\\n  },\\n  {\\n    \"ai_title\": \"\\\\u52de\\\\u52d5\\\\u90e8\\\\u516c\\\\u5e03\\\\u85aa\\\\u8cc7\\\\u8abf\\\\u67e5\\\\uff1a\\\\u822a\\\\u7a7a\\\\u99d5\\\\u99db\\\\u54e1\\\\u87ec\\\\u806f\\\\u6700\\\\u9ad8\\\\u85aa\\\\uff0c\\\\u5916\\\\u7c4d\\\\u79fb\\\\u5de5\\\\u5f15\\\\u9032\\\\u6050\\\\u7834\\\\u58de\\\\u4f4e\\\\u85aa\\\\u6539\\\\u5584\",\\n    \"image_url\": \"https://cdn.ttv.com.tw/summernotefiles/News/18b6e7b6-e7a2-42fd-8498-8f774522cbc6.png\",\\n    \"news_id\": 243,\\n    \"source_website\": \"\\\\u53f0\\\\u8996\",\\n    \"time\": \"2025-05-29\"\\n  },\\n  {\\n    \"ai_title\": \"\\\\u8077\\\\u68d2\\\\u7403\\\\u661f\\\\u5f35\\\\u653f\\\\u79b9\\\\u8eca\\\\u798d\\\\u649e\\\\u50b7\\\\u5927\\\\u5b78\\\\u751f\\\\uff0c\\\\u5473\\\\u5168\\\\u9f8d\\\\u7403\\\\u5718\\\\u8072\\\\u660e\\\\u4e26\\\\u66ab\\\\u6642\\\\u4e0b\\\\u653e\\\\u8abf\\\\u67e5\",\\n    \"image_url\": \"https://cdn.ttv.com.tw/manasystem/FileData/News/d870e049-cf7a-45c5-aa82-e4d16a8256e5.jpg\",\\n    \"news_id\": 222,\\n    \"source_website\": \"\\\\u53f0\\\\u8996\",\\n    \"time\": \"2025-05-29\"\\n  },\\n  {\\n    \"ai_title\": \"LINE\\\\u65b0\\\\u589e\\\\u8868\\\\u60c5\\\\u56de\\\\u61c9\\\\u529f\\\\u80fd\\\\uff0c\\\\u8cbc\\\\u5716\\\\u96a8\\\\u5fc3\\\\u6240\\\\u6b32\\\\u4f7f\\\\u7528\\\\uff0c\\\\u7db2\\\\u53cb\\\\u6b61\\\\u547c\\\\u96c0\\\\u8e8d\",\\n    \"image_url\": \"https://cdn.ttv.com.tw/manasystem/FileData/News/ae52e2c3-97a6-45a1-9a33-de0a102a1f85.jpg\",\\n    \"news_id\": 244,\\n    \"source_website\": \"\\\\u53f0\\\\u8996\",\\n    \"time\": \"2025-05-29\"\\n  },\\n  {\\n    \"ai_title\": \"88\\\\u6703\\\\u9928\\\\u8ca0\\\\u8cac\\\\u4eba\\\\u90ed\\\\u54f2\\\\u654f\\\\u91cd\\\\u7f6a\\\\u5224\\\\u521111\\\\u5e748\\\\u500b\\\\u6708\\\\uff0c\\\\u5f8b\\\\u5e2b\\\\u6279\\\\u5224\\\\u6c7a\\\\u7f3a\\\\u4e4f\\\\u8b49\\\\u64da\\\\u4e26\\\\u5c07\\\\u4e0a\\\\u8a34\",\\n    \"image_url\": \"https://cdn.ttv.com.tw/manasystem/FileData/News/3647dddb-cbdd-4aad-9117-5eef46281418.jpg\",\\n    \"news_id\": 21,\\n    \"source_website\": \"\\\\u53f0\\\\u8996\",\\n    \"time\": \"2025-05-29\"\\n  },\\n  {\\n    \"ai_title\": \"\\\\u53f0\\\\u4e2d\\\\u88dc\\\\u7fd2\\\\u73ed\\\\u6559\\\\u5e2b\\\\u60e1\\\\u610f\\\\u5077\\\\u62cd\\\\u5973\\\\u5b78\\\\u751f9\\\\u5e74\\\\uff0c\\\\u5730\\\\u9662\\\\u522412\\\\u5e74\\\\u5f92\\\\u5211\\\\uff0c\\\\u5168\\\\u6848\\\\u4ecd\\\\u53ef\\\\u4e0a\\\\u8a34\",\\n    \"image_url\": \"https://cdn.ttv.com.tw/manasystem/FileData/News/0e80d748-7309-4804-922a-25b050fffe66.jpg\",\\n    \"news_id\": 22,\\n    \"source_website\": \"\\\\u53f0\\\\u8996\",\\n    \"time\": \"2025-05-29\"\\n  },\\n  {\\n    \"ai_title\": \"\\\\u516b\\\\u516b\\\\u6703\\\\u9928\\\\u8ca0\\\\u8cac\\\\u4eba\\\\u90ed\\\\u54f2\\\\u654f\\\\u7d93\\\\u71df\\\\u535a\\\\u5f08\\\\u7db2\\\\u7ad9\\\\u53ca\\\\u5730\\\\u4e0b\\\\u532f\\\\u514c\\\\uff0c\\\\u906d\\\\u5224\\\\u521111\\\\u5e748\\\\u500b\\\\u6708\\\\u4e26\\\\u6c92\\\\u6536\\\\u5de8\\\\u984d\\\\u8ca1\\\\u7522\",\\n    \"image_url\": \"https://cdn.ttv.com.tw/manasystem/FileData/News/9b730ed8-504c-42d0-989e-0eebf5e0ea3e.jpg\",\\n    \"news_id\": 23,\\n    \"source_website\": \"\\\\u53f0\\\\u8996\",\\n    \"time\": \"2025-05-29\"\\n  },\\n  {\\n    \"ai_title\": \"\\\\u6f8e\\\\u6e56\\\\u667a\\\\u6167\\\\u65c5\\\\u904a\\\\u5e73\\\\u53f0\\\\u300c\\\\u6f8e\\\\u6e56GO\\\\u300d\\\\u6b63\\\\u5f0f\\\\u4e0a\\\\u7dda\\\\uff0c\\\\u63d0\\\\u4f9b\\\\u4e00\\\\u7ad9\\\\u5f0f\\\\u4ea4\\\\u901a\\\\u8207\\\\u89c0\\\\u5149\\\\u8cc7\\\\u8a0a\\\\u3002\",\\n    \"image_url\": \"https://cdn.ttv.com.tw/summernotefiles/News/2d1e70bc-878c-41e2-ae2b-67c82b082786.jpg\",\\n    \"news_id\": 283,\\n    \"source_website\": \"\\\\u53f0\\\\u8996\",\\n    \"time\": \"2025-05-29\"\\n  },\\n  {\\n    \"ai_title\": \"\\\\u592a\\\\u9b6f\\\\u95a3\\\\u865f\\\\u4e8b\\\\u6545\\\\u4e8c\\\\u5be9\\\\u5224\\\\u6c7a\\\\u51fa\\\\u7210\\\\uff0c\\\\u674e\\\\u7fa9\\\\u7965\\\\u522412\\\\u5e746\\\\u500b\\\\u6708\\\\uff0c\\\\u79fb\\\\u5de5\\\\u83ef\\\\u6587\\\\u597d\\\\u7372\\\\u7121\\\\u7f6a\\\\u3002\",\\n    \"image_url\": null,\\n    \"news_id\": 24,\\n    \"source_website\": \"\\\\u53f0\\\\u8996\",\\n    \"time\": \"2025-05-29\"\\n  },\\n  {\\n    \"ai_title\": \"\\\\u5357\\\\u97d3\\\\u6d77\\\\u8ecd\\\\u5de1\\\\u908f\\\\u6a5f\\\\u589c\\\\u6bc0\\\\uff0c\\\\u5df2\\\\u5c0b\\\\u73723\\\\u5177\\\\u907a\\\\u9ad4\\\\uff0c\\\\u4e8b\\\\u6545\\\\u539f\\\\u56e0\\\\u6b63\\\\u5728\\\\u8abf\\\\u67e5\\\\u4e2d\\\\u3002\",\\n    \"image_url\": \"https://cdn.ttv.com.tw/manasystem/FileData/News/47bddd4f-e321-4110-8510-b9762bd712af.jpg\",\\n    \"news_id\": 1,\\n    \"source_website\": \"\\\\u53f0\\\\u8996\",\\n    \"time\": \"2025-05-29\"\\n  }\\n]\\n'"
      ]
     },
     "execution_count": 16,
     "metadata": {},
     "output_type": "execute_result"
    }
   ],
   "source": [
    "res.text"
   ]
  },
  {
   "cell_type": "code",
   "execution_count": 17,
   "id": "55ad9e2f",
   "metadata": {},
   "outputs": [
    {
     "data": {
      "text/plain": [
       "[{'ai_title': '張斯綱捲入幽靈連署案遭訊問，強調尊重司法並配合調查，國民黨智庫批司法濫權',\n",
       "  'image_url': 'https://cdn.ttv.com.tw/manasystem/FileData/News/d4f7928e-2a38-4a07-bb05-9a4fa985fda1.jpg',\n",
       "  'news_id': 221,\n",
       "  'source_website': '台視',\n",
       "  'time': '2025-05-29'},\n",
       " {'ai_title': '勞動部公布薪資調查：航空駕駛員蟬聯最高薪，外籍移工引進恐破壞低薪改善',\n",
       "  'image_url': 'https://cdn.ttv.com.tw/summernotefiles/News/18b6e7b6-e7a2-42fd-8498-8f774522cbc6.png',\n",
       "  'news_id': 243,\n",
       "  'source_website': '台視',\n",
       "  'time': '2025-05-29'},\n",
       " {'ai_title': '職棒球星張政禹車禍撞傷大學生，味全龍球團聲明並暫時下放調查',\n",
       "  'image_url': 'https://cdn.ttv.com.tw/manasystem/FileData/News/d870e049-cf7a-45c5-aa82-e4d16a8256e5.jpg',\n",
       "  'news_id': 222,\n",
       "  'source_website': '台視',\n",
       "  'time': '2025-05-29'},\n",
       " {'ai_title': 'LINE新增表情回應功能，貼圖隨心所欲使用，網友歡呼雀躍',\n",
       "  'image_url': 'https://cdn.ttv.com.tw/manasystem/FileData/News/ae52e2c3-97a6-45a1-9a33-de0a102a1f85.jpg',\n",
       "  'news_id': 244,\n",
       "  'source_website': '台視',\n",
       "  'time': '2025-05-29'},\n",
       " {'ai_title': '88會館負責人郭哲敏重罪判刑11年8個月，律師批判決缺乏證據並將上訴',\n",
       "  'image_url': 'https://cdn.ttv.com.tw/manasystem/FileData/News/3647dddb-cbdd-4aad-9117-5eef46281418.jpg',\n",
       "  'news_id': 21,\n",
       "  'source_website': '台視',\n",
       "  'time': '2025-05-29'},\n",
       " {'ai_title': '台中補習班教師惡意偷拍女學生9年，地院判12年徒刑，全案仍可上訴',\n",
       "  'image_url': 'https://cdn.ttv.com.tw/manasystem/FileData/News/0e80d748-7309-4804-922a-25b050fffe66.jpg',\n",
       "  'news_id': 22,\n",
       "  'source_website': '台視',\n",
       "  'time': '2025-05-29'},\n",
       " {'ai_title': '八八會館負責人郭哲敏經營博弈網站及地下匯兌，遭判刑11年8個月並沒收巨額財產',\n",
       "  'image_url': 'https://cdn.ttv.com.tw/manasystem/FileData/News/9b730ed8-504c-42d0-989e-0eebf5e0ea3e.jpg',\n",
       "  'news_id': 23,\n",
       "  'source_website': '台視',\n",
       "  'time': '2025-05-29'},\n",
       " {'ai_title': '澎湖智慧旅遊平台「澎湖GO」正式上線，提供一站式交通與觀光資訊。',\n",
       "  'image_url': 'https://cdn.ttv.com.tw/summernotefiles/News/2d1e70bc-878c-41e2-ae2b-67c82b082786.jpg',\n",
       "  'news_id': 283,\n",
       "  'source_website': '台視',\n",
       "  'time': '2025-05-29'},\n",
       " {'ai_title': '太魯閣號事故二審判決出爐，李義祥判12年6個月，移工華文好獲無罪。',\n",
       "  'image_url': None,\n",
       "  'news_id': 24,\n",
       "  'source_website': '台視',\n",
       "  'time': '2025-05-29'},\n",
       " {'ai_title': '南韓海軍巡邏機墜毀，已尋獲3具遺體，事故原因正在調查中。',\n",
       "  'image_url': 'https://cdn.ttv.com.tw/manasystem/FileData/News/47bddd4f-e321-4110-8510-b9762bd712af.jpg',\n",
       "  'news_id': 1,\n",
       "  'source_website': '台視',\n",
       "  'time': '2025-05-29'}]"
      ]
     },
     "execution_count": 17,
     "metadata": {},
     "output_type": "execute_result"
    }
   ],
   "source": [
    "json.loads(res.text)"
   ]
  },
  {
   "cell_type": "code",
   "execution_count": 31,
   "id": "421468a7",
   "metadata": {},
   "outputs": [],
   "source": [
    "res = requests.get('http://127.0.0.1:7000/api/ai_news/31')"
   ]
  },
  {
   "cell_type": "code",
   "execution_count": 32,
   "id": "47512c39",
   "metadata": {},
   "outputs": [
    {
     "data": {
      "text/plain": [
       "{'ai_details': [{'ai_model': 'gemma3:12b-it-qat',\n",
       "   'ai_sentiment_analysis': '負面',\n",
       "   'ai_title': '台大毒梟林男落網：高調詐勒暗網使用者，販毒牟利5.3億元，家人也遭調查。'},\n",
       "  {'ai_model': 'gemma3:4b-it-qat',\n",
       "   'ai_sentiment_analysis': '負面',\n",
       "   'ai_title': '台大學霸林毒梟案再曝！勒索、洗錢家族皆遭追查'}],\n",
       " 'image_url': 'https://cdn.ttv.com.tw/summernotefiles/News/eaf91824-3c43-46d6-9439-40f8fa70f5a4.png',\n",
       " 'news_content': '台大學霸林姓毒梟在美國被抓面臨終身監禁，現在也被爆出更多內幕！包括他不但高調用本名註冊，還異想天開拿所有販毒跟非法交易的資料，勒索暗網使用者，因此爆出「黑吃黑」遭FBI逮捕，落網後，還傳出有加密隨身碟被執法單位找到，兩年內他販毒1.3公噸、分潤超過5.3億台幣，電子郵件裡面有台灣銀行寄來的信件，也被發現有百萬美元存款，販毒跟洗錢讓他的家人全都受累。\\n台大學霸林姓男子在邦交國跟電信警察演講，內容是「網路犯罪跟加密貨幣」，但他根本就是暗網毒梟，更囂張到用本名註冊，資安專家劉彥伯指出一個非常有趣的事證，就是從FBI公開的資料中可以發現，林男所使用的相關資訊，都是個人在台灣真實使用的電話號碼以及電子郵件。\\n林男註冊網頁用的駕照，起訴時直接被當成附件，林姓嫌犯的的電子郵件裡發現台灣銀行寄來的信，破解知道至少有百萬美元存款。\\n林男19歲就手寫規劃出暗網流程圖，24歲被發現利用法老當匿名經營暗網，去年3月突然關閉平台，幾天後貼出一段文章，「55.7萬筆訂單還有交易資訊從來沒有被真正刪除過…驚不驚喜！意不意外」，更表明「這就是勒索」，要求每個人付2萬美金，最終下場就是黑吃黑，直接被抓。\\n林男的銀行保險箱裡，被執法單位發現加密隨身碟貼在保險箱底層外側，另外也發現他從2021年開始，2年內協助販售安非他命、海洛因、口服嗎啡、大麻等總重量超過1.3噸的毒品，銷售額台幣30億，分潤至少5.3億，但品質很差，臥底警察買處方藥，到貨卻是強效麻醉劑，差點鬧出人命。\\n非本案律師舒盈嘉表示，其中有藥品品質參差不齊、銷貨不實的情形，可能會涉及違反美國聯邦食品藥物和化妝品法中，參雜摻假藥品的規定。\\n美國FBI辦他販毒重罪，台灣司法追究洗錢，連在台灣的媽媽都列被告遭搜索調查，恐怕毀不當初。\\n台北／綜合報導\\u3000責任編輯／網路中心',\n",
       " 'news_time': '2025-05-28 20:55:00',\n",
       " 'news_title': '台大學霸毒梟2年販毒「分潤逾5.3億」！犯基本錯誤用「本名」遭逮',\n",
       " 'news_url': 'https://news.ttv.com.tw/news/11405280032200L',\n",
       " 'source_website': '台視'}"
      ]
     },
     "execution_count": 32,
     "metadata": {},
     "output_type": "execute_result"
    }
   ],
   "source": [
    "json.loads(res.text)"
   ]
  },
  {
   "cell_type": "code",
   "execution_count": null,
   "id": "3349efa4",
   "metadata": {},
   "outputs": [],
   "source": []
  },
  {
   "cell_type": "code",
   "execution_count": null,
   "id": "7f414883",
   "metadata": {},
   "outputs": [],
   "source": []
  },
  {
   "cell_type": "code",
   "execution_count": null,
   "id": "e0247ffb",
   "metadata": {},
   "outputs": [],
   "source": []
  },
  {
   "cell_type": "code",
   "execution_count": null,
   "id": "1aca6e5b",
   "metadata": {},
   "outputs": [],
   "source": []
  },
  {
   "cell_type": "code",
   "execution_count": null,
   "id": "f34907ff",
   "metadata": {},
   "outputs": [],
   "source": []
  },
  {
   "cell_type": "code",
   "execution_count": null,
   "id": "1347ca9c",
   "metadata": {},
   "outputs": [],
   "source": []
  }
 ],
 "metadata": {
  "kernelspec": {
   "display_name": ".venv",
   "language": "python",
   "name": "python3"
  },
  "language_info": {
   "codemirror_mode": {
    "name": "ipython",
    "version": 3
   },
   "file_extension": ".py",
   "mimetype": "text/x-python",
   "name": "python",
   "nbconvert_exporter": "python",
   "pygments_lexer": "ipython3",
   "version": "3.13.3"
  }
 },
 "nbformat": 4,
 "nbformat_minor": 5
}
